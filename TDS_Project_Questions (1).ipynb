{
  "nbformat": 4,
  "nbformat_minor": 0,
  "metadata": {
    "colab": {
      "provenance": []
    },
    "kernelspec": {
      "name": "python3",
      "display_name": "Python 3"
    },
    "language_info": {
      "name": "python"
    }
  },
  "cells": [
    {
      "cell_type": "code",
      "execution_count": null,
      "metadata": {
        "colab": {
          "base_uri": "https://localhost:8080/",
          "height": 73
        },
        "id": "h1dj0cwW3K3p",
        "outputId": "9849d814-74e1-4a4f-9040-c3005ae2d2de"
      },
      "outputs": [
        {
          "output_type": "display_data",
          "data": {
            "text/plain": [
              "<IPython.core.display.HTML object>"
            ],
            "text/html": [
              "\n",
              "     <input type=\"file\" id=\"files-d60cde48-64d6-4732-8681-e8c2d65503b9\" name=\"files[]\" multiple disabled\n",
              "        style=\"border:none\" />\n",
              "     <output id=\"result-d60cde48-64d6-4732-8681-e8c2d65503b9\">\n",
              "      Upload widget is only available when the cell has been executed in the\n",
              "      current browser session. Please rerun this cell to enable.\n",
              "      </output>\n",
              "      <script>// Copyright 2017 Google LLC\n",
              "//\n",
              "// Licensed under the Apache License, Version 2.0 (the \"License\");\n",
              "// you may not use this file except in compliance with the License.\n",
              "// You may obtain a copy of the License at\n",
              "//\n",
              "//      http://www.apache.org/licenses/LICENSE-2.0\n",
              "//\n",
              "// Unless required by applicable law or agreed to in writing, software\n",
              "// distributed under the License is distributed on an \"AS IS\" BASIS,\n",
              "// WITHOUT WARRANTIES OR CONDITIONS OF ANY KIND, either express or implied.\n",
              "// See the License for the specific language governing permissions and\n",
              "// limitations under the License.\n",
              "\n",
              "/**\n",
              " * @fileoverview Helpers for google.colab Python module.\n",
              " */\n",
              "(function(scope) {\n",
              "function span(text, styleAttributes = {}) {\n",
              "  const element = document.createElement('span');\n",
              "  element.textContent = text;\n",
              "  for (const key of Object.keys(styleAttributes)) {\n",
              "    element.style[key] = styleAttributes[key];\n",
              "  }\n",
              "  return element;\n",
              "}\n",
              "\n",
              "// Max number of bytes which will be uploaded at a time.\n",
              "const MAX_PAYLOAD_SIZE = 100 * 1024;\n",
              "\n",
              "function _uploadFiles(inputId, outputId) {\n",
              "  const steps = uploadFilesStep(inputId, outputId);\n",
              "  const outputElement = document.getElementById(outputId);\n",
              "  // Cache steps on the outputElement to make it available for the next call\n",
              "  // to uploadFilesContinue from Python.\n",
              "  outputElement.steps = steps;\n",
              "\n",
              "  return _uploadFilesContinue(outputId);\n",
              "}\n",
              "\n",
              "// This is roughly an async generator (not supported in the browser yet),\n",
              "// where there are multiple asynchronous steps and the Python side is going\n",
              "// to poll for completion of each step.\n",
              "// This uses a Promise to block the python side on completion of each step,\n",
              "// then passes the result of the previous step as the input to the next step.\n",
              "function _uploadFilesContinue(outputId) {\n",
              "  const outputElement = document.getElementById(outputId);\n",
              "  const steps = outputElement.steps;\n",
              "\n",
              "  const next = steps.next(outputElement.lastPromiseValue);\n",
              "  return Promise.resolve(next.value.promise).then((value) => {\n",
              "    // Cache the last promise value to make it available to the next\n",
              "    // step of the generator.\n",
              "    outputElement.lastPromiseValue = value;\n",
              "    return next.value.response;\n",
              "  });\n",
              "}\n",
              "\n",
              "/**\n",
              " * Generator function which is called between each async step of the upload\n",
              " * process.\n",
              " * @param {string} inputId Element ID of the input file picker element.\n",
              " * @param {string} outputId Element ID of the output display.\n",
              " * @return {!Iterable<!Object>} Iterable of next steps.\n",
              " */\n",
              "function* uploadFilesStep(inputId, outputId) {\n",
              "  const inputElement = document.getElementById(inputId);\n",
              "  inputElement.disabled = false;\n",
              "\n",
              "  const outputElement = document.getElementById(outputId);\n",
              "  outputElement.innerHTML = '';\n",
              "\n",
              "  const pickedPromise = new Promise((resolve) => {\n",
              "    inputElement.addEventListener('change', (e) => {\n",
              "      resolve(e.target.files);\n",
              "    });\n",
              "  });\n",
              "\n",
              "  const cancel = document.createElement('button');\n",
              "  inputElement.parentElement.appendChild(cancel);\n",
              "  cancel.textContent = 'Cancel upload';\n",
              "  const cancelPromise = new Promise((resolve) => {\n",
              "    cancel.onclick = () => {\n",
              "      resolve(null);\n",
              "    };\n",
              "  });\n",
              "\n",
              "  // Wait for the user to pick the files.\n",
              "  const files = yield {\n",
              "    promise: Promise.race([pickedPromise, cancelPromise]),\n",
              "    response: {\n",
              "      action: 'starting',\n",
              "    }\n",
              "  };\n",
              "\n",
              "  cancel.remove();\n",
              "\n",
              "  // Disable the input element since further picks are not allowed.\n",
              "  inputElement.disabled = true;\n",
              "\n",
              "  if (!files) {\n",
              "    return {\n",
              "      response: {\n",
              "        action: 'complete',\n",
              "      }\n",
              "    };\n",
              "  }\n",
              "\n",
              "  for (const file of files) {\n",
              "    const li = document.createElement('li');\n",
              "    li.append(span(file.name, {fontWeight: 'bold'}));\n",
              "    li.append(span(\n",
              "        `(${file.type || 'n/a'}) - ${file.size} bytes, ` +\n",
              "        `last modified: ${\n",
              "            file.lastModifiedDate ? file.lastModifiedDate.toLocaleDateString() :\n",
              "                                    'n/a'} - `));\n",
              "    const percent = span('0% done');\n",
              "    li.appendChild(percent);\n",
              "\n",
              "    outputElement.appendChild(li);\n",
              "\n",
              "    const fileDataPromise = new Promise((resolve) => {\n",
              "      const reader = new FileReader();\n",
              "      reader.onload = (e) => {\n",
              "        resolve(e.target.result);\n",
              "      };\n",
              "      reader.readAsArrayBuffer(file);\n",
              "    });\n",
              "    // Wait for the data to be ready.\n",
              "    let fileData = yield {\n",
              "      promise: fileDataPromise,\n",
              "      response: {\n",
              "        action: 'continue',\n",
              "      }\n",
              "    };\n",
              "\n",
              "    // Use a chunked sending to avoid message size limits. See b/62115660.\n",
              "    let position = 0;\n",
              "    do {\n",
              "      const length = Math.min(fileData.byteLength - position, MAX_PAYLOAD_SIZE);\n",
              "      const chunk = new Uint8Array(fileData, position, length);\n",
              "      position += length;\n",
              "\n",
              "      const base64 = btoa(String.fromCharCode.apply(null, chunk));\n",
              "      yield {\n",
              "        response: {\n",
              "          action: 'append',\n",
              "          file: file.name,\n",
              "          data: base64,\n",
              "        },\n",
              "      };\n",
              "\n",
              "      let percentDone = fileData.byteLength === 0 ?\n",
              "          100 :\n",
              "          Math.round((position / fileData.byteLength) * 100);\n",
              "      percent.textContent = `${percentDone}% done`;\n",
              "\n",
              "    } while (position < fileData.byteLength);\n",
              "  }\n",
              "\n",
              "  // All done.\n",
              "  yield {\n",
              "    response: {\n",
              "      action: 'complete',\n",
              "    }\n",
              "  };\n",
              "}\n",
              "\n",
              "scope.google = scope.google || {};\n",
              "scope.google.colab = scope.google.colab || {};\n",
              "scope.google.colab._files = {\n",
              "  _uploadFiles,\n",
              "  _uploadFilesContinue,\n",
              "};\n",
              "})(self);\n",
              "</script> "
            ]
          },
          "metadata": {}
        },
        {
          "output_type": "stream",
          "name": "stdout",
          "text": [
            "Saving repositories.csv to repositories.csv\n"
          ]
        }
      ],
      "source": [
        "from google.colab import files\n",
        "uploaded = files.upload()\n"
      ]
    },
    {
      "cell_type": "code",
      "source": [
        "import pandas as pd\n",
        "\n",
        "# Read the uploaded CSV file\n",
        "df = pd.read_csv('repositories.csv')\n",
        "\n",
        "# Filter out rows with missing licenses\n",
        "df = df[df['license_name'].notna()]\n",
        "\n",
        "# Count the occurrences of each license\n",
        "license_counts = df['license_name'].value_counts()\n",
        "\n",
        "# Get the top 3 most popular licenses\n",
        "top_4_licenses = license_counts.head(4)\n",
        "\n",
        "# Print the result as a comma-separated list\n",
        "print(', '.join(top_4_licenses.index))\n"
      ],
      "metadata": {
        "colab": {
          "base_uri": "https://localhost:8080/"
        },
        "id": "xo0_dva23uSd",
        "outputId": "23877c08-8925-49d2-ffc5-3db5012526cb"
      },
      "execution_count": null,
      "outputs": [
        {
          "output_type": "stream",
          "name": "stdout",
          "text": [
            " ', MIT License, Other, Apache License 2.0\n"
          ]
        }
      ]
    },
    {
      "cell_type": "code",
      "execution_count": null,
      "metadata": {
        "colab": {
          "base_uri": "https://localhost:8080/",
          "height": 73
        },
        "outputId": "b7372a3f-bab4-4906-87a0-ced1661be1a5",
        "id": "YiQF2HlK4sta"
      },
      "outputs": [
        {
          "output_type": "display_data",
          "data": {
            "text/plain": [
              "<IPython.core.display.HTML object>"
            ],
            "text/html": [
              "\n",
              "     <input type=\"file\" id=\"files-40879168-690b-4a74-8734-0a4a07c12285\" name=\"files[]\" multiple disabled\n",
              "        style=\"border:none\" />\n",
              "     <output id=\"result-40879168-690b-4a74-8734-0a4a07c12285\">\n",
              "      Upload widget is only available when the cell has been executed in the\n",
              "      current browser session. Please rerun this cell to enable.\n",
              "      </output>\n",
              "      <script>// Copyright 2017 Google LLC\n",
              "//\n",
              "// Licensed under the Apache License, Version 2.0 (the \"License\");\n",
              "// you may not use this file except in compliance with the License.\n",
              "// You may obtain a copy of the License at\n",
              "//\n",
              "//      http://www.apache.org/licenses/LICENSE-2.0\n",
              "//\n",
              "// Unless required by applicable law or agreed to in writing, software\n",
              "// distributed under the License is distributed on an \"AS IS\" BASIS,\n",
              "// WITHOUT WARRANTIES OR CONDITIONS OF ANY KIND, either express or implied.\n",
              "// See the License for the specific language governing permissions and\n",
              "// limitations under the License.\n",
              "\n",
              "/**\n",
              " * @fileoverview Helpers for google.colab Python module.\n",
              " */\n",
              "(function(scope) {\n",
              "function span(text, styleAttributes = {}) {\n",
              "  const element = document.createElement('span');\n",
              "  element.textContent = text;\n",
              "  for (const key of Object.keys(styleAttributes)) {\n",
              "    element.style[key] = styleAttributes[key];\n",
              "  }\n",
              "  return element;\n",
              "}\n",
              "\n",
              "// Max number of bytes which will be uploaded at a time.\n",
              "const MAX_PAYLOAD_SIZE = 100 * 1024;\n",
              "\n",
              "function _uploadFiles(inputId, outputId) {\n",
              "  const steps = uploadFilesStep(inputId, outputId);\n",
              "  const outputElement = document.getElementById(outputId);\n",
              "  // Cache steps on the outputElement to make it available for the next call\n",
              "  // to uploadFilesContinue from Python.\n",
              "  outputElement.steps = steps;\n",
              "\n",
              "  return _uploadFilesContinue(outputId);\n",
              "}\n",
              "\n",
              "// This is roughly an async generator (not supported in the browser yet),\n",
              "// where there are multiple asynchronous steps and the Python side is going\n",
              "// to poll for completion of each step.\n",
              "// This uses a Promise to block the python side on completion of each step,\n",
              "// then passes the result of the previous step as the input to the next step.\n",
              "function _uploadFilesContinue(outputId) {\n",
              "  const outputElement = document.getElementById(outputId);\n",
              "  const steps = outputElement.steps;\n",
              "\n",
              "  const next = steps.next(outputElement.lastPromiseValue);\n",
              "  return Promise.resolve(next.value.promise).then((value) => {\n",
              "    // Cache the last promise value to make it available to the next\n",
              "    // step of the generator.\n",
              "    outputElement.lastPromiseValue = value;\n",
              "    return next.value.response;\n",
              "  });\n",
              "}\n",
              "\n",
              "/**\n",
              " * Generator function which is called between each async step of the upload\n",
              " * process.\n",
              " * @param {string} inputId Element ID of the input file picker element.\n",
              " * @param {string} outputId Element ID of the output display.\n",
              " * @return {!Iterable<!Object>} Iterable of next steps.\n",
              " */\n",
              "function* uploadFilesStep(inputId, outputId) {\n",
              "  const inputElement = document.getElementById(inputId);\n",
              "  inputElement.disabled = false;\n",
              "\n",
              "  const outputElement = document.getElementById(outputId);\n",
              "  outputElement.innerHTML = '';\n",
              "\n",
              "  const pickedPromise = new Promise((resolve) => {\n",
              "    inputElement.addEventListener('change', (e) => {\n",
              "      resolve(e.target.files);\n",
              "    });\n",
              "  });\n",
              "\n",
              "  const cancel = document.createElement('button');\n",
              "  inputElement.parentElement.appendChild(cancel);\n",
              "  cancel.textContent = 'Cancel upload';\n",
              "  const cancelPromise = new Promise((resolve) => {\n",
              "    cancel.onclick = () => {\n",
              "      resolve(null);\n",
              "    };\n",
              "  });\n",
              "\n",
              "  // Wait for the user to pick the files.\n",
              "  const files = yield {\n",
              "    promise: Promise.race([pickedPromise, cancelPromise]),\n",
              "    response: {\n",
              "      action: 'starting',\n",
              "    }\n",
              "  };\n",
              "\n",
              "  cancel.remove();\n",
              "\n",
              "  // Disable the input element since further picks are not allowed.\n",
              "  inputElement.disabled = true;\n",
              "\n",
              "  if (!files) {\n",
              "    return {\n",
              "      response: {\n",
              "        action: 'complete',\n",
              "      }\n",
              "    };\n",
              "  }\n",
              "\n",
              "  for (const file of files) {\n",
              "    const li = document.createElement('li');\n",
              "    li.append(span(file.name, {fontWeight: 'bold'}));\n",
              "    li.append(span(\n",
              "        `(${file.type || 'n/a'}) - ${file.size} bytes, ` +\n",
              "        `last modified: ${\n",
              "            file.lastModifiedDate ? file.lastModifiedDate.toLocaleDateString() :\n",
              "                                    'n/a'} - `));\n",
              "    const percent = span('0% done');\n",
              "    li.appendChild(percent);\n",
              "\n",
              "    outputElement.appendChild(li);\n",
              "\n",
              "    const fileDataPromise = new Promise((resolve) => {\n",
              "      const reader = new FileReader();\n",
              "      reader.onload = (e) => {\n",
              "        resolve(e.target.result);\n",
              "      };\n",
              "      reader.readAsArrayBuffer(file);\n",
              "    });\n",
              "    // Wait for the data to be ready.\n",
              "    let fileData = yield {\n",
              "      promise: fileDataPromise,\n",
              "      response: {\n",
              "        action: 'continue',\n",
              "      }\n",
              "    };\n",
              "\n",
              "    // Use a chunked sending to avoid message size limits. See b/62115660.\n",
              "    let position = 0;\n",
              "    do {\n",
              "      const length = Math.min(fileData.byteLength - position, MAX_PAYLOAD_SIZE);\n",
              "      const chunk = new Uint8Array(fileData, position, length);\n",
              "      position += length;\n",
              "\n",
              "      const base64 = btoa(String.fromCharCode.apply(null, chunk));\n",
              "      yield {\n",
              "        response: {\n",
              "          action: 'append',\n",
              "          file: file.name,\n",
              "          data: base64,\n",
              "        },\n",
              "      };\n",
              "\n",
              "      let percentDone = fileData.byteLength === 0 ?\n",
              "          100 :\n",
              "          Math.round((position / fileData.byteLength) * 100);\n",
              "      percent.textContent = `${percentDone}% done`;\n",
              "\n",
              "    } while (position < fileData.byteLength);\n",
              "  }\n",
              "\n",
              "  // All done.\n",
              "  yield {\n",
              "    response: {\n",
              "      action: 'complete',\n",
              "    }\n",
              "  };\n",
              "}\n",
              "\n",
              "scope.google = scope.google || {};\n",
              "scope.google.colab = scope.google.colab || {};\n",
              "scope.google.colab._files = {\n",
              "  _uploadFiles,\n",
              "  _uploadFilesContinue,\n",
              "};\n",
              "})(self);\n",
              "</script> "
            ]
          },
          "metadata": {}
        },
        {
          "output_type": "stream",
          "name": "stdout",
          "text": [
            "Saving users.csv to users.csv\n"
          ]
        }
      ],
      "source": [
        "from google.colab import files\n",
        "uploaded = files.upload()\n"
      ]
    },
    {
      "cell_type": "code",
      "source": [
        "import pandas as pd\n",
        "\n",
        "# Read the uploaded CSV file\n",
        "df = pd.read_csv('users.csv')\n",
        "\n",
        "# Filter out rows with missing company names\n",
        "df = df[df['company'].notna()]\n",
        "\n",
        "# Clean up company names (remove leading/trailing whitespace and convert to uppercase)\n",
        "df['company'] = df['company'].str.strip().str.upper()\n",
        "\n",
        "# Count the occurrences of each company\n",
        "company_counts = df['company'].value_counts()\n",
        "\n",
        "# Get the company with the highest count\n",
        "most_common_company = company_counts.idxmax()\n",
        "\n",
        "# Print the result\n",
        "print(f\"The majority of these developers work at: {most_common_company}\")\n"
      ],
      "metadata": {
        "colab": {
          "base_uri": "https://localhost:8080/"
        },
        "id": "84xNQ2vv4w3i",
        "outputId": "f881aadc-035a-46f6-a761-dd6103ad8186"
      },
      "execution_count": null,
      "outputs": [
        {
          "output_type": "stream",
          "name": "stdout",
          "text": [
            "The majority of these developers work at: MONASH UNIVERSITY\n"
          ]
        }
      ]
    },
    {
      "cell_type": "code",
      "source": [
        "import pandas as pd\n",
        "\n",
        "# Read the uploaded CSV file\n",
        "df = pd.read_csv('repositories.csv')\n",
        "\n",
        "# Filter out rows with missing programming languages\n",
        "df = df[df['language'].notna()]\n",
        "\n",
        "# Count the occurrences of each programming language\n",
        "language_counts = df['language'].value_counts()\n",
        "\n",
        "# Get the second most popular programming language\n",
        "second_most_popular_language = language_counts.index[1]\n",
        "\n",
        "# Print the result\n",
        "print(f\"The most popular programming language among these users is: {second_most_popular_language}\")\n"
      ],
      "metadata": {
        "colab": {
          "base_uri": "https://localhost:8080/"
        },
        "id": "c1cQ0d4x5b3f",
        "outputId": "15544256-c739-4837-df73-97ed82448b75"
      },
      "execution_count": 3,
      "outputs": [
        {
          "output_type": "stream",
          "name": "stdout",
          "text": [
            "The most popular programming language among these users is: JavaScript\n"
          ]
        }
      ]
    },
    {
      "cell_type": "code",
      "source": [
        "import pandas as pd\n",
        "\n",
        "# Read the uploaded CSV files\n",
        "df_users = pd.read_csv('users.csv')\n",
        "df_repos = pd.read_csv('repositories.csv')\n",
        "\n",
        "# Filter users who joined after 2020\n",
        "df_users['created_at'] = pd.to_datetime(df_users['created_at'])\n",
        "df_users_after_2020 = df_users[df_users['created_at'].dt.year > 2020]\n",
        "\n",
        "# Get the list of users who joined after 2020\n",
        "users_after_2020 = df_users_after_2020['login'].tolist()\n",
        "\n",
        "# Filter repositories of users who joined after 2020\n",
        "df_repos_after_2020 = df_repos[df_repos['login'].isin(users_after_2020)]\n",
        "\n",
        "# Filter out rows with missing programming languages\n",
        "df_repos_after_2020 = df_repos_after_2020[df_repos_after_2020['language'].notna()]\n",
        "\n",
        "# Count the occurrences of each programming language\n",
        "language_counts = df_repos_after_2020['language'].value_counts()\n",
        "\n",
        "# Get the second most popular programming language\n",
        "second_most_popular_language = language_counts.index[1]\n",
        "\n",
        "# Print the result\n",
        "print(f\"The second most popular programming language among users who joined after 2020 is: {second_most_popular_language}\")\n"
      ],
      "metadata": {
        "colab": {
          "base_uri": "https://localhost:8080/"
        },
        "id": "2-hFNTbl6XDr",
        "outputId": "4c5bad74-ebb9-4161-d7ca-c642071e3b76"
      },
      "execution_count": null,
      "outputs": [
        {
          "output_type": "stream",
          "name": "stdout",
          "text": [
            "The second most popular programming language among users who joined after 2020 is: Python\n"
          ]
        }
      ]
    },
    {
      "cell_type": "code",
      "source": [
        "import pandas as pd\n",
        "\n",
        "# Read the uploaded CSV file\n",
        "df = pd.read_csv('repositories.csv')\n",
        "\n",
        "# Filter out rows with missing programming languages and missing stargazers_count\n",
        "df = df[df['language'].notna() & df['stargazers_count'].notna()]\n",
        "\n",
        "# Calculate the average number of stars per repository for each programming language\n",
        "average_stars = df.groupby('language')['stargazers_count'].mean()\n",
        "\n",
        "# Get the programming language with the highest average number of stars\n",
        "language_with_highest_avg_stars = average_stars.idxmax()\n",
        "\n",
        "# Print the result\n",
        "print(f\"The programming language with the highest average number of stars per repository is: {language_with_highest_avg_stars}\")\n"
      ],
      "metadata": {
        "colab": {
          "base_uri": "https://localhost:8080/"
        },
        "id": "vOUMXYlA6oE8",
        "outputId": "49f61c5a-c4bb-4665-abcf-1ef98a52837e"
      },
      "execution_count": null,
      "outputs": [
        {
          "output_type": "stream",
          "name": "stdout",
          "text": [
            "The programming language with the highest average number of stars per repository is: D\n"
          ]
        }
      ]
    },
    {
      "cell_type": "code",
      "source": [
        "import pandas as pd\n",
        "\n",
        "# Read the uploaded CSV file\n",
        "df = pd.read_csv('users.csv')\n",
        "\n",
        "# Calculate leader_strength as followers / (1 + following)\n",
        "df['leader_strength'] = df['followers'] / (1 + df['following'])\n",
        "\n",
        "# Sort the DataFrame by leader_strength in descending order\n",
        "df_sorted = df.sort_values(by='leader_strength', ascending=False)\n",
        "\n",
        "# Get the top 5 users in terms of leader_strength\n",
        "top_5_users = df_sorted.head(5)['login']\n",
        "\n",
        "# Print the result as a comma-separated list\n",
        "print(', '.join(top_5_users))\n"
      ],
      "metadata": {
        "colab": {
          "base_uri": "https://localhost:8080/"
        },
        "id": "wwLSAsaQ7BPc",
        "outputId": "814abad5-9d90-4fe7-8028-a6e89989a8bc"
      },
      "execution_count": null,
      "outputs": [
        {
          "output_type": "stream",
          "name": "stdout",
          "text": [
            "mosh-hamedani, binarythistle, TheCherno, TuPayChain, rogerclarkmelbourne\n"
          ]
        }
      ]
    },
    {
      "cell_type": "code",
      "source": [
        "import pandas as pd\n",
        "\n",
        "# Read the uploaded CSV file\n",
        "df = pd.read_csv('users.csv')\n",
        "\n",
        "# Filter users located in Melbourne\n",
        "df_melbourne = df[df['location'].str.contains('Melbourne', case=False, na=False)]\n",
        "\n",
        "# Calculate the correlation between the number of followers and the number of public repositories\n",
        "correlation = df_melbourne['followers'].corr(df_melbourne['public_repos'])\n",
        "\n",
        "# Print the result\n",
        "print(f\"The correlation between the number of followers and the number of public repositories among users in Melbourne is: {correlation}\")\n"
      ],
      "metadata": {
        "colab": {
          "base_uri": "https://localhost:8080/"
        },
        "id": "BQNaVaXU7VU2",
        "outputId": "451f1166-8ac3-40db-dfde-40c94f04044b"
      },
      "execution_count": null,
      "outputs": [
        {
          "output_type": "stream",
          "name": "stdout",
          "text": [
            "The correlation between the number of followers and the number of public repositories among users in Melbourne is: 0.1877369455370579\n"
          ]
        }
      ]
    },
    {
      "cell_type": "code",
      "source": [
        "import pandas as pd\n",
        "import statsmodels.api as sm\n",
        "\n",
        "# Read the uploaded CSV file\n",
        "df = pd.read_csv('users.csv')\n",
        "\n",
        "# Define the independent variable (number of public repositories) and dependent variable (number of followers)\n",
        "X = df['public_repos']\n",
        "y = df['followers']\n",
        "\n",
        "# Add a constant to the independent variable for the regression model\n",
        "X = sm.add_constant(X)\n",
        "\n",
        "# Fit the regression model\n",
        "model = sm.OLS(y, X).fit()\n",
        "\n",
        "# Print the summary of the regression model\n",
        "print(model.summary())\n",
        "\n",
        "# Get the coefficient for the number of public repositories\n",
        "coef_public_repos = model.params['public_repos']\n",
        "\n",
        "# Print the estimated number of additional followers per additional public repository\n",
        "print(f\"Estimated number of additional followers per additional public repository: {coef_public_repos}\")\n"
      ],
      "metadata": {
        "colab": {
          "base_uri": "https://localhost:8080/"
        },
        "id": "YQBpe3947ufh",
        "outputId": "d0b42e5c-cb65-433f-a49d-71fcf19d80e9"
      },
      "execution_count": null,
      "outputs": [
        {
          "output_type": "stream",
          "name": "stdout",
          "text": [
            "                            OLS Regression Results                            \n",
            "==============================================================================\n",
            "Dep. Variable:              followers   R-squared:                       0.035\n",
            "Model:                            OLS   Adj. R-squared:                  0.032\n",
            "Method:                 Least Squares   F-statistic:                     12.06\n",
            "Date:                Thu, 31 Oct 2024   Prob (F-statistic):           0.000585\n",
            "Time:                        14:16:14   Log-Likelihood:                -2814.5\n",
            "No. Observations:                 332   AIC:                             5633.\n",
            "Df Residuals:                     330   BIC:                             5641.\n",
            "Df Model:                           1                                         \n",
            "Covariance Type:            nonrobust                                         \n",
            "================================================================================\n",
            "                   coef    std err          t      P>|t|      [0.025      0.975]\n",
            "--------------------------------------------------------------------------------\n",
            "const          255.8615     86.007      2.975      0.003      86.669     425.054\n",
            "public_repos     2.2426      0.646      3.472      0.001       0.972       3.513\n",
            "==============================================================================\n",
            "Omnibus:                      496.165   Durbin-Watson:                   0.112\n",
            "Prob(Omnibus):                  0.000   Jarque-Bera (JB):            70600.415\n",
            "Skew:                           7.750   Prob(JB):                         0.00\n",
            "Kurtosis:                      72.738   Cond. No.                         179.\n",
            "==============================================================================\n",
            "\n",
            "Notes:\n",
            "[1] Standard Errors assume that the covariance matrix of the errors is correctly specified.\n",
            "Estimated number of additional followers per additional public repository: 2.2425580808438013\n"
          ]
        }
      ]
    },
    {
      "cell_type": "code",
      "source": [
        "import pandas as pd\n",
        "\n",
        "# Read the uploaded CSV file\n",
        "df = pd.read_csv('repositories.csv')\n",
        "\n",
        "# Convert 'has_projects' and 'has_wiki' columns to boolean\n",
        "df['has_projects'] = df['has_projects'].astype(bool)\n",
        "df['has_wiki'] = df['has_wiki'].astype(bool)\n",
        "\n",
        "# Calculate the correlation between having projects enabled and having wiki enabled\n",
        "correlation = df['has_projects'].corr(df['has_wiki'])\n",
        "\n",
        "# Print the result\n",
        "print(f\"The correlation between a repo having projects enabled and having wiki enabled is: {correlation}\")\n"
      ],
      "metadata": {
        "colab": {
          "base_uri": "https://localhost:8080/"
        },
        "id": "jx0kqRhf8RhR",
        "outputId": "ef3bb630-a70f-4501-c09e-b7fd7007c0f0"
      },
      "execution_count": null,
      "outputs": [
        {
          "output_type": "stream",
          "name": "stdout",
          "text": [
            "The correlation between a repo having projects enabled and having wiki enabled is: 0.38013500891127805\n"
          ]
        }
      ]
    },
    {
      "cell_type": "code",
      "source": [
        "import pandas as pd\n",
        "\n",
        "# Read the uploaded CSV file\n",
        "df = pd.read_csv('users.csv')\n",
        "\n",
        "# Ensure the 'hireable' column is boolean\n",
        "df['hireable'] = df['hireable'].astype(bool)\n",
        "\n",
        "# Calculate the average number of people followed per user for hireable=true\n",
        "avg_following_hireable = df[df['hireable'] == True]['following'].mean()\n",
        "\n",
        "# Calculate the average number of people followed per user for hireable=false\n",
        "avg_following_not_hireable = df[df['hireable'] == False]['following'].mean()\n",
        "\n",
        "# Calculate the difference and round to 3 decimal places\n",
        "difference = round(avg_following_hireable - avg_following_not_hireable, 3)\n",
        "\n",
        "# Print the result\n",
        "print(f\"The average difference in following between hireable and non-hireable users is: {difference}\")\n"
      ],
      "metadata": {
        "colab": {
          "base_uri": "https://localhost:8080/"
        },
        "id": "kfukQGOE8h9S",
        "outputId": "2724ace4-2eb5-485f-dbe0-0fca184ef729"
      },
      "execution_count": null,
      "outputs": [
        {
          "output_type": "stream",
          "name": "stdout",
          "text": [
            "The average difference in following between hireable and non-hireable users is: -45.901\n"
          ]
        }
      ]
    },
    {
      "cell_type": "code",
      "source": [
        "import pandas as pd\n",
        "import statsmodels.api as sm\n",
        "\n",
        "# Read the uploaded CSV file\n",
        "df = pd.read_csv('users.csv')\n",
        "\n",
        "# Filter out rows with missing bios\n",
        "df = df[df['bio'].notna()]\n",
        "\n",
        "# Calculate the word count of the bio\n",
        "df['bio_word_count'] = df['bio'].apply(lambda x: len(x.split()))\n",
        "\n",
        "# Define the independent variable (bio word count) and dependent variable (number of followers)\n",
        "X = df['bio_word_count']\n",
        "y = df['followers']\n",
        "\n",
        "# Add a constant to the independent variable for the regression model\n",
        "X = sm.add_constant(X)\n",
        "\n",
        "# Fit the regression model\n",
        "model = sm.OLS(y, X).fit()\n",
        "\n",
        "# Get the regression slope for bio word count\n",
        "slope_bio_word_count = round(model.params['bio_word_count'], 3)\n",
        "\n",
        "# Print the result\n",
        "print(f\"The regression slope of followers on bio word count is: {slope_bio_word_count}\")\n"
      ],
      "metadata": {
        "colab": {
          "base_uri": "https://localhost:8080/"
        },
        "id": "YpSce2np81Qz",
        "outputId": "f21653a8-fc49-4507-b3bb-be0b2b417ff2"
      },
      "execution_count": null,
      "outputs": [
        {
          "output_type": "stream",
          "name": "stdout",
          "text": [
            "The regression slope of followers on bio word count is: 7.352\n"
          ]
        }
      ]
    },
    {
      "cell_type": "code",
      "source": [
        "import pandas as pd\n",
        "\n",
        "# Read the uploaded CSV file\n",
        "df = pd.read_csv('repositories.csv')\n",
        "\n",
        "# Convert 'created_at' to datetime\n",
        "df['created_at'] = pd.to_datetime(df['created_at'])\n",
        "\n",
        "# Filter repositories created on weekends (Saturday and Sunday)\n",
        "df_weekends = df[df['created_at'].dt.weekday >= 5]\n",
        "\n",
        "# Count the number of repositories created by each user on weekends\n",
        "weekend_repo_counts = df_weekends['login'].value_counts()\n",
        "\n",
        "# Get the top 5 users who created the most repositories on weekends\n",
        "top_5_users = weekend_repo_counts.head(5).index\n",
        "\n",
        "# Print the result as a comma-separated list\n",
        "print(', '.join(top_5_users))\n"
      ],
      "metadata": {
        "colab": {
          "base_uri": "https://localhost:8080/"
        },
        "id": "XF-1fbrz9Cpz",
        "outputId": "46156e79-cb9d-46fa-8878-7563be3117e4"
      },
      "execution_count": null,
      "outputs": [
        {
          "output_type": "stream",
          "name": "stdout",
          "text": [
            "wolfeidau, karkranikhil, roachhd, plutext, rstacruz\n"
          ]
        }
      ]
    },
    {
      "cell_type": "code",
      "source": [
        "import pandas as pd\n",
        "\n",
        "# Read the uploaded CSV file\n",
        "df = pd.read_csv('users.csv')\n",
        "\n",
        "# Ensure the 'hireable' column is boolean\n",
        "df['hireable'] = df['hireable'].astype(bool)\n",
        "\n",
        "# Calculate the fraction of users with email when hireable=true\n",
        "fraction_with_email_hireable = df[df['hireable'] == True]['email'].notna().mean()\n",
        "\n",
        "# Calculate the fraction of users with email when hireable=false\n",
        "fraction_with_email_not_hireable = df[df['hireable'] == False]['email'].notna().mean()\n",
        "\n",
        "# Calculate the difference and round to 3 decimal places\n",
        "difference = round(fraction_with_email_hireable - fraction_with_email_not_hireable, 3)\n",
        "\n",
        "# Print the result\n",
        "print(f\"The difference in the fraction of users with email between hireable and non-hireable users is: {difference}\")\n"
      ],
      "metadata": {
        "colab": {
          "base_uri": "https://localhost:8080/"
        },
        "id": "JUz4Yy5a9WJ6",
        "outputId": "3ce0b01d-df57-4ce8-a513-533fc55f0f70"
      },
      "execution_count": null,
      "outputs": [
        {
          "output_type": "stream",
          "name": "stdout",
          "text": [
            "The difference in the fraction of users with email between hireable and non-hireable users is: 0.048\n"
          ]
        }
      ]
    },
    {
      "cell_type": "code",
      "source": [
        "import pandas as pd\n",
        "\n",
        "# Read the uploaded CSV files\n",
        "df_users = pd.read_csv('users.csv')\n",
        "df_repos = pd.read_csv('repositories.csv')\n",
        "\n",
        "# Interesting Fact 1: Hireable Users with Detailed Bios\n",
        "df_users['bio_word_count'] = df_users['bio'].apply(lambda x: len(x.split()) if pd.notna(x) else 0)\n",
        "hireable_with_bio = df_users[(df_users['hireable'] == True) & (df_users['bio_word_count'] > 10)]\n",
        "avg_followers_hireable_with_bio = hireable_with_bio['followers'].mean()\n",
        "interesting_fact_1 = f\"Hireable users with detailed bios (more than 10 words) have an average of {avg_followers_hireable_with_bio:.2f} followers.\"\n",
        "\n",
        "# Interesting Fact 2: Weekend Repository Creation\n",
        "df_repos['created_at'] = pd.to_datetime(df_repos['created_at'])\n",
        "df_repos['weekday'] = df_repos['created_at'].dt.weekday\n",
        "weekend_repos = df_repos[df_repos['weekday'] >= 5]\n",
        "weekday_repos = df_repos[df_repos['weekday'] < 5]\n",
        "avg_stars_weekend = weekend_repos['stargazers_count'].mean()\n",
        "avg_stars_weekday = weekday_repos['stargazers_count'].mean()\n",
        "interesting_fact_2 = f\"Repositories created on weekends have an average of {avg_stars_weekend:.2f} stars, compared to {avg_stars_weekday:.2f} stars for those created on weekdays.\"\n",
        "\n",
        "# Print the interesting facts\n",
        "print(\"Interesting Fact 1:\")\n",
        "print(interesting_fact_1)\n",
        "print(\"\\nInteresting Fact 2:\")\n",
        "print(interesting_fact_2)\n",
        "\n",
        "# Actionable Recommendations\n",
        "recommendation_1 = \"Developers should consider writing detailed bios if they are hireable. A well-crafted bio can help attract more followers and showcase their expertise and personality.\"\n",
        "recommendation_2 = \"Developers might want to consider creating and publishing repositories on weekends to increase their chances of getting more stars and attention.\"\n",
        "\n",
        "print(\"\\nActionable Recommendation 1:\")\n",
        "print(recommendation_1)\n",
        "print(\"\\nActionable Recommendation 2:\")\n",
        "print(recommendation_2)\n"
      ],
      "metadata": {
        "colab": {
          "base_uri": "https://localhost:8080/"
        },
        "id": "rq0OG3d5FYi0",
        "outputId": "3c35712a-94f8-4cbb-e101-f2bec8c8c714"
      },
      "execution_count": null,
      "outputs": [
        {
          "output_type": "stream",
          "name": "stdout",
          "text": [
            "Interesting Fact 1:\n",
            "Hireable users with detailed bios (more than 10 words) have an average of 501.03 followers.\n",
            "\n",
            "Interesting Fact 2:\n",
            "Repositories created on weekends have an average of 38.15 stars, compared to 20.10 stars for those created on weekdays.\n",
            "\n",
            "Actionable Recommendation 1:\n",
            "Developers should consider writing detailed bios if they are hireable. A well-crafted bio can help attract more followers and showcase their expertise and personality.\n",
            "\n",
            "Actionable Recommendation 2:\n",
            "Developers might want to consider creating and publishing repositories on weekends to increase their chances of getting more stars and attention.\n"
          ]
        }
      ]
    }
  ]
}