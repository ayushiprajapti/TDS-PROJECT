Pls Refer to the TDS_Project_Questions (1).ipynb file
